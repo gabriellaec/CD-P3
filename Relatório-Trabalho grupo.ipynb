{
 "cells": [
  {
   "cell_type": "markdown",
   "metadata": {},
   "source": [
    "# Divisão do trabalho em grupo - Relatório"
   ]
  },
  {
   "cell_type": "markdown",
   "metadata": {},
   "source": [
    "### Integrantes:\n",
    "\n",
    "Alexandre Cury\n",
    "\n",
    "\n",
    "\n",
    "Gabriela Mitu\n",
    "\n",
    "\n",
    "Gabriella Cukier\n",
    "\n",
    "\n"
   ]
  },
  {
   "cell_type": "markdown",
   "metadata": {},
   "source": [
    "O grupo realizou a maior parte das atividades em sala, quando todos estavam presentes. \n",
    "\n",
    "Todos se mostraram interessados, informados, encorajados e deram boas ideias.\n",
    "\n",
    "Além disso, cada um se dedicou a realizar pesquisas acerca dos atributos na parte da análise exploratória.\n",
    "\n",
    "Na parte dos classificadores, todos procuraram referências confiáveis de métodos diferentes para fazer a previsão do algorítimo.\n",
    "\n",
    "Portanto, todos participaram do trabalho e merecem notas iguais do trabalho em grupo"
   ]
  },
  {
   "cell_type": "code",
   "execution_count": null,
   "metadata": {},
   "outputs": [],
   "source": []
  }
 ],
 "metadata": {
  "kernelspec": {
   "display_name": "Python 3",
   "language": "python",
   "name": "python3"
  },
  "language_info": {
   "codemirror_mode": {
    "name": "ipython",
    "version": 3
   },
   "file_extension": ".py",
   "mimetype": "text/x-python",
   "name": "python",
   "nbconvert_exporter": "python",
   "pygments_lexer": "ipython3",
   "version": "3.7.1"
  }
 },
 "nbformat": 4,
 "nbformat_minor": 2
}
